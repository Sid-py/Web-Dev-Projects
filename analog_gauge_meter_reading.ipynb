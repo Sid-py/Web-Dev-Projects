{
  "nbformat": 4,
  "nbformat_minor": 0,
  "metadata": {
    "colab": {
      "provenance": [],
      "collapsed_sections": [],
      "authorship_tag": "ABX9TyP8Z6CYCuAjg115u1Q0yFy8",
      "include_colab_link": true
    },
    "kernelspec": {
      "name": "python3",
      "display_name": "Python 3"
    },
    "language_info": {
      "name": "python"
    }
  },
  "cells": [
    {
      "cell_type": "markdown",
      "metadata": {
        "id": "view-in-github",
        "colab_type": "text"
      },
      "source": [
        "<a href=\"https://colab.research.google.com/github/Sid-py/Web-Dev-Projects/blob/main/analog_gauge_meter_reading.ipynb\" target=\"_parent\"><img src=\"https://colab.research.google.com/assets/colab-badge.svg\" alt=\"Open In Colab\"/></a>"
      ]
    },
    {
      "cell_type": "code",
      "source": [
        "import cv2\n",
        "import imutils\n",
        "import numpy as np\n",
        "import time\n"
      ],
      "metadata": {
        "id": "vtC3cbGodbpC"
      },
      "execution_count": 1,
      "outputs": []
    },
    {
      "cell_type": "code",
      "source": [
        "def avg_circles(circles, b):\n",
        "  avg_x = 0\n",
        "  avg_y = 0\n",
        "  avg_r = 0\n",
        "  for i in range(b):\n",
        "    avg_x = avg_x + circles[0][i][0]\n",
        "    avg_y = avg_y + circles[0][i][1]\n",
        "    avg_r = avg_r + circles[0][i][2]\n",
        "  avg_x = int(avg_x/(b))\n",
        "  avg_y = int(avg_y/(b))\n",
        "  avg_r = int(avg_r/(b))\n",
        "  return avg_x, avg_y, avg_r"
      ],
      "metadata": {
        "id": "lAw-cIDLdblI"
      },
      "execution_count": 2,
      "outputs": []
    },
    {
      "cell_type": "code",
      "source": [
        "def dist_2_pts(x1, y1, x2, y2):\n",
        "    #print np.sqrt((x2-x1)^2+(y2-y1)^2)\n",
        "    return np.sqrt((x2 - x1)**2 + (y2 - y1)**2)"
      ],
      "metadata": {
        "id": "a4UHAL6OkyXI"
      },
      "execution_count": 3,
      "outputs": []
    },
    {
      "cell_type": "code",
      "source": [
        "def calibrate_gauge(gauge_number, file_type):\n",
        "    img = cv2.imread(\"image.jpg\")\n",
        "    \n",
        "    \n",
        "    height, width = img.shape[:2]\n",
        "    gray = cv2.cvtColor(img, cv2.COLOR_BGR2GRAY)  #convert to gray\n",
        "    #cv2.imshow(\"Cal\", gray)\n",
        "    circles = cv2.HoughCircles(gray, cv2.HOUGH_GRADIENT, 1, 20, np.array([]), 100, 50, int(height*0.35), int(height*0.48))\n",
        "    #cv2.imshow(\"circle\", circles)\n",
        "    # average found circles, found it to be more accurate than trying to tune HoughCircles parameters to get just the right one\n",
        "    #print(\"Shape: \",img.shape)\n",
        "    a, b, c = img.shape\n",
        "    x,y,r = avg_circles(img, b)\n",
        "\n",
        "    #draw center and circle\n",
        "    cv2.circle(img, (x, y), r, (0, 0, 255), 3, cv2.LINE_AA)  # draw circle\n",
        "    cv2.circle(img, (x, y), 2, (0, 255, 0), 3, cv2.LINE_AA)  \n",
        "    \n",
        "    separation = 10.0 #in degrees\n",
        "    interval = int(360 / separation)\n",
        "    p1 = np.zeros((interval,2))  #set empty arrays\n",
        "    p2 = np.zeros((interval,2))\n",
        "    p_text = np.zeros((interval,2))\n",
        "    for i in range(0,interval):\n",
        "        for j in range(0,2):\n",
        "            if (j%2==0):\n",
        "                p1[i][j] = x + 0.9 * r * np.cos(separation * i * 3.14 / 180) #point for lines\n",
        "            else:\n",
        "                p1[i][j] = y + 0.9 * r * np.sin(separation * i * 3.14 / 180)\n",
        "    text_offset_x = 10\n",
        "    text_offset_y = 5\n",
        "    for i in range(0, interval):\n",
        "        for j in range(0, 2):\n",
        "            if (j % 2 == 0):\n",
        "                p2[i][j] = x + r * np.cos(separation * i * 3.14 / 180)\n",
        "                p_text[i][j] = x - text_offset_x + 1.2 * r * np.cos((separation) * (i+9) * 3.14 / 180) #point for text labels, i+9 rotates the labels by 90 degrees\n",
        "            else:\n",
        "                p2[i][j] = y + r * np.sin(separation * i * 3.14 / 180)\n",
        "                p_text[i][j] = y + text_offset_y + 1.2* r * np.sin((separation) * (i+9) * 3.14 / 180)  # point for text labels, i+9 rotates the labels by 90 degrees\n",
        "\n",
        "    #add the lines and labels to the image\n",
        "    for i in range(0,interval):\n",
        "        cv2.line(img, (int(p1[i][0]), int(p1[i][1])), (int(p2[i][0]), int(p2[i][1])),(0, 255, 0), 2)\n",
        "        cv2.putText(img, '%s' %(int(i*separation)), (int(p_text[i][0]), int(p_text[i][1])), cv2.FONT_HERSHEY_SIMPLEX, 0.3,(0,0,0),1,cv2.LINE_AA)\n",
        "\n",
        "    cv2.imwrite('gauge-%s-calibration.%s' % (gauge_number, file_type), img)\n",
        "\n",
        "    #get user input on min, max, values, and units\n",
        "    #print('gauge number: %s' %gauge_number)\n",
        "    min_angle =  0\n",
        "    max_angle = 360\n",
        "    min_value = 0\n",
        "    max_value = 40\n",
        "    units = 'km/hr'\n",
        "    return min_angle, max_angle, min_value, max_value, units, x, y, r"
      ],
      "metadata": {
        "id": "md5NMb6KiNfs"
      },
      "execution_count": 4,
      "outputs": []
    },
    {
      "cell_type": "code",
      "source": [
        "def get_current_value(min_angle, max_angle, min_value, max_value, x, y, r, gauge_number, file_type):\n",
        "\n",
        "    #for testing purposes\n",
        "    #img = cv2.imread('gauge-%s.%s' % (gauge_number, file_type))\n",
        "    img=img = cv2.imread(\"image.jpg\")\n",
        "    gray2 = cv2.cvtColor(img, cv2.COLOR_BGR2GRAY)\n",
        "    #cv2.imshow(\"val\", gray2)\n",
        "    # Set threshold and maxValue\n",
        "    thresh = 175\n",
        "    maxValue = 255\n",
        "\n",
        "    \n",
        "    th, dst2 = cv2.threshold(gray2, thresh, maxValue, cv2.THRESH_BINARY_INV);\n",
        "    #cv2.imshow(\"dst2\", dst2)\n",
        "    \n",
        "    cv2.imwrite('gauge-%s-tempdst2.%s' % (gauge_number, file_type), dst2)\n",
        "\n",
        "    # find lines\n",
        "    minLineLength = 10\n",
        "    maxLineGap = 0\n",
        "    lines = cv2.HoughLinesP(image=dst2, rho=3, theta=np.pi / 180, threshold=100,minLineLength=minLineLength, maxLineGap=0)  # rho is set to 3 to detect more lines, easier to get more then filter them out later\n",
        "    \n",
        "    #for testing purposes, show all found lines\n",
        "    # for i in range(0, len(lines)):\n",
        "    #   for x1, y1, x2, y2 in lines[i]:\n",
        "    #      cv2.line(img, (x1, y1), (x2, y2), (0, 255, 0), 2)\n",
        "    #      cv2.imwrite('gauge-%s-lines-test.%s' %(gauge_number, file_type), img)\n",
        "\n",
        "    # remove all lines outside a given radius\n",
        "    final_line_list = []\n",
        "    #print \"radius: %s\" %r\n",
        "\n",
        "    diff1LowerBound = 0.15 #diff1LowerBound and diff1UpperBound determine how close the line should be from the center\n",
        "    diff1UpperBound = 0.25\n",
        "    diff2LowerBound = 0.5 #diff2LowerBound and diff2UpperBound determine how close the other point of the line should be to the outside of the gauge\n",
        "    diff2UpperBound = 1.0\n",
        "    for i in range(0, len(lines)):\n",
        "        for x1, y1, x2, y2 in lines[i]:\n",
        "            diff1 = dist_2_pts(x, y, x1, y1)  # x, y is center of circle\n",
        "            diff2 = dist_2_pts(x, y, x2, y2)  # x, y is center of circle\n",
        "            #set diff1 to be the smaller (closest to the center) of the two), makes the math easier\n",
        "            if (diff1 > diff2):\n",
        "                temp = diff1\n",
        "                diff1 = diff2\n",
        "                diff2 = temp\n",
        "            # check if line is within an acceptable range\n",
        "            if (((diff1<diff1UpperBound*r) and (diff1>diff1LowerBound*r) and (diff2<diff2UpperBound*r)) and (diff2>diff2LowerBound*r)):\n",
        "                line_length = dist_2_pts(x1, y1, x2, y2)\n",
        "                # add to final list\n",
        "                final_line_list.append([x1, y1, x2, y2])\n",
        "\n",
        "    #testing only, show all lines after filtering\n",
        "    # for i in range(0,len(final_line_list)):\n",
        "    #     x1 = final_line_list[i][0]\n",
        "    #     y1 = final_line_list[i][1]\n",
        "    #     x2 = final_line_list[i][2]\n",
        "    #     y2 = final_line_list[i][3]\n",
        "    #     cv2.line(img, (x1, y1), (x2, y2), (0, 255, 0), 2)\n",
        "\n",
        "    # assumes the first line is the best one\n",
        "    #print(\"final_line_list: \",final_line_list)\n",
        "    x1 = final_line_list[0][0]\n",
        "    y1 = final_line_list[0][1]\n",
        "    x2 = final_line_list[0][2]\n",
        "    y2 = final_line_list[0][3]\n",
        "    cv2.line(img, (x1, y1), (x2, y2), (0, 255, 0), 2)\n",
        "\n",
        "    #for testing purposes, show the line overlayed on the original image\n",
        "    #cv2.imwrite('gauge-1-test.jpg', img)\n",
        "    cv2.imwrite('gauge-%s-lines-2.%s' % (gauge_number, file_type), img)\n",
        "\n",
        "    #find the farthest point from the center to be what is used to determine the angle\n",
        "    dist_pt_0 = dist_2_pts(x, y, x1, y1)\n",
        "    dist_pt_1 = dist_2_pts(x, y, x2, y2)\n",
        "    if (dist_pt_0 > dist_pt_1):\n",
        "        x_angle = x1 - x\n",
        "        y_angle = y - y1\n",
        "    else:\n",
        "        x_angle = x2 - x\n",
        "        y_angle = y - y2\n",
        "    # take the arc tan of y/x to find the angle\n",
        "    res = np.arctan(np.divide(float(y_angle), float(x_angle)))\n",
        "    \n",
        "    res = np.rad2deg(res)\n",
        "    if x_angle > 0 and y_angle > 0:  #in quadrant I\n",
        "        final_angle = 270 - res\n",
        "    if x_angle < 0 and y_angle > 0:  #in quadrant II\n",
        "        final_angle = 90 - res\n",
        "    if x_angle < 0 and y_angle < 0:  #in quadrant III\n",
        "        final_angle = 90 - res\n",
        "    if x_angle > 0 and y_angle < 0:  #in quadrant IV\n",
        "        final_angle = 270 - res\n",
        "\n",
        "    #print final_angle\n",
        "\n",
        "    old_min = float(min_angle)\n",
        "    old_max = float(max_angle)\n",
        "\n",
        "    new_min = float(min_value)\n",
        "    new_max = float(max_value)\n",
        "\n",
        "    old_value = final_angle\n",
        "\n",
        "    old_range = (old_max - old_min)\n",
        "    new_range = (new_max - new_min)\n",
        "    new_value = (((old_value - old_min) * new_range) / old_range) + new_min\n",
        "\n",
        "    return new_value\n"
      ],
      "metadata": {
        "id": "sF47BKrqkkiA"
      },
      "execution_count": 5,
      "outputs": []
    },
    {
      "cell_type": "code",
      "source": [
        "from google.colab.patches import cv2_imshow"
      ],
      "metadata": {
        "id": "-hi88_D3gdfk"
      },
      "execution_count": 10,
      "outputs": []
    },
    {
      "cell_type": "code",
      "source": [
        "#cap = cv2.VideoCapture(0) \n",
        "cap = cv2.VideoCapture(\"basicvideo1.mp4\")\n",
        "success, img1 = cap.read()\n",
        "\n",
        "img2 = imutils.rotate(img1, angle = 180 )\n",
        "img=img1\n",
        "cv2.imwrite(\"image.jpg\", img1)\n",
        "cv2.imwrite(\"rotated_image.jpg\", img2)\n",
        "cv2_imshow(img2)\n",
        "if cap.isOpened():\n",
        "  frame_count = 0\n",
        "  while success:\n",
        "      gauge_number = 1\n",
        "      file_type='jpg'\n",
        "      # name the calibration image of your gauge 'gauge-#.jpg', for example 'gauge-5.jpg'.  It's written this way so you can easily try multiple images\n",
        "      min_angle, max_angle, min_value, max_value, units,x, y, r = calibrate_gauge(gauge_number, file_type)\n",
        "      val = get_current_value(min_angle, max_angle, min_value, max_value, x, y, r, gauge_number, file_type)\n",
        "      print(\"Current reading: %s %s\" %(round((val),2), units))\n",
        "      success, img = cap.read()\n",
        "      frame_count += 1\n",
        " \n",
        "cap.release()"
      ],
      "metadata": {
        "id": "A6yENGUqdbjH"
      },
      "execution_count": null,
      "outputs": []
    },
    {
      "cell_type": "code",
      "source": [],
      "metadata": {
        "id": "MFwGJ9L3dbgb"
      },
      "execution_count": null,
      "outputs": []
    },
    {
      "cell_type": "code",
      "source": [],
      "metadata": {
        "id": "JEP9MXLhdbdy"
      },
      "execution_count": null,
      "outputs": []
    },
    {
      "cell_type": "code",
      "source": [],
      "metadata": {
        "id": "Fikw7iDUdba5"
      },
      "execution_count": null,
      "outputs": []
    },
    {
      "cell_type": "code",
      "source": [],
      "metadata": {
        "id": "k2077kNndbY4"
      },
      "execution_count": null,
      "outputs": []
    },
    {
      "cell_type": "code",
      "source": [],
      "metadata": {
        "id": "6SvYfBqMdbV4"
      },
      "execution_count": null,
      "outputs": []
    },
    {
      "cell_type": "code",
      "source": [],
      "metadata": {
        "id": "nUmXeoAUdbUQ"
      },
      "execution_count": null,
      "outputs": []
    },
    {
      "cell_type": "code",
      "source": [],
      "metadata": {
        "id": "TYoowpCtdbRK"
      },
      "execution_count": null,
      "outputs": []
    },
    {
      "cell_type": "code",
      "source": [],
      "metadata": {
        "id": "cAwNMPemdbPO"
      },
      "execution_count": null,
      "outputs": []
    },
    {
      "cell_type": "code",
      "source": [],
      "metadata": {
        "id": "nnkMykd4dbMH"
      },
      "execution_count": null,
      "outputs": []
    },
    {
      "cell_type": "code",
      "source": [],
      "metadata": {
        "id": "-flPyiD8dbKJ"
      },
      "execution_count": null,
      "outputs": []
    },
    {
      "cell_type": "code",
      "execution_count": null,
      "metadata": {
        "id": "SAp6z9B3dFBo"
      },
      "outputs": [],
      "source": []
    }
  ]
}